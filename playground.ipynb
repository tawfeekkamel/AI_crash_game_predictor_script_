{
 "cells": [
  {
   "cell_type": "code",
   "execution_count": null,
   "id": "5f817b11",
   "metadata": {},
   "outputs": [],
   "source": [
    "! pip install xgboost"
   ]
  },
  {
   "cell_type": "code",
   "execution_count": 155,
   "id": "1f22acc5",
   "metadata": {},
   "outputs": [],
   "source": [
    "\n",
    "from sklearn.model_selection import cross_val_score\n",
    "from sklearn.ensemble import RandomForestRegressor \n",
    "from sklearn.model_selection import GridSearchCV\n",
    "from xgboost import XGBRegressor\n",
    "from sklearn.neural_network import MLPRegressor\n",
    "from sklearn.linear_model import Ridge\n",
    "import pandas as pd\n",
    "from sklearn.preprocessing import StandardScaler\n",
    "from sklearn.metrics import r2_score\n",
    "from sklearn.model_selection import train_test_split\n"
   ]
  },
  {
   "cell_type": "code",
   "execution_count": 156,
   "id": "142de826",
   "metadata": {},
   "outputs": [],
   "source": [
    "df = pd.read_csv(r\"C:\\Users\\tawfeek\\data.csv\")\n",
    "df.drop(\"Time\",inplace=True,axis=1)\n",
    "# Create new features for the previous 5 rows\n",
    "for i in range(1, 6):\n",
    "    df[f'historic_{i}_player_count'] = df['Number of players'].shift(i)\n",
    "    df[f'historic_{i}_total_bet_amount'] = df['Total bets'].shift(i)\n",
    "    df[f'historic_{i}_max_rate'] = df['Multiplier(Crash)'].shift(i)\n",
    "    df[f'historic_{i}_total_win_amount'] = df['Total gains'].shift(i)\n",
    "df = df.dropna().reset_index(drop=True)\n",
    "y = df['Multiplier(Crash)']\n",
    "X = df.drop(columns=['Multiplier(Crash)'])"
   ]
  },
  {
   "cell_type": "code",
   "execution_count": 157,
   "id": "1141b85f",
   "metadata": {},
   "outputs": [
    {
     "name": "stdout",
     "output_type": "stream",
     "text": [
      "<class 'pandas.core.frame.DataFrame'>\n",
      "RangeIndex: 3137 entries, 0 to 3136\n",
      "Data columns (total 25 columns):\n",
      " #   Column                       Non-Null Count  Dtype  \n",
      "---  ------                       --------------  -----  \n",
      " 0   Number of players            3137 non-null   int64  \n",
      " 1   Total bets                   3137 non-null   float64\n",
      " 2   Multiplier(Crash)            3137 non-null   float64\n",
      " 3   Total gains                  3137 non-null   float64\n",
      " 4   L                            3137 non-null   int64  \n",
      " 5   historic_1_player_count      3137 non-null   float64\n",
      " 6   historic_1_total_bet_amount  3137 non-null   float64\n",
      " 7   historic_1_max_rate          3137 non-null   float64\n",
      " 8   historic_1_total_win_amount  3137 non-null   float64\n",
      " 9   historic_2_player_count      3137 non-null   float64\n",
      " 10  historic_2_total_bet_amount  3137 non-null   float64\n",
      " 11  historic_2_max_rate          3137 non-null   float64\n",
      " 12  historic_2_total_win_amount  3137 non-null   float64\n",
      " 13  historic_3_player_count      3137 non-null   float64\n",
      " 14  historic_3_total_bet_amount  3137 non-null   float64\n",
      " 15  historic_3_max_rate          3137 non-null   float64\n",
      " 16  historic_3_total_win_amount  3137 non-null   float64\n",
      " 17  historic_4_player_count      3137 non-null   float64\n",
      " 18  historic_4_total_bet_amount  3137 non-null   float64\n",
      " 19  historic_4_max_rate          3137 non-null   float64\n",
      " 20  historic_4_total_win_amount  3137 non-null   float64\n",
      " 21  historic_5_player_count      3137 non-null   float64\n",
      " 22  historic_5_total_bet_amount  3137 non-null   float64\n",
      " 23  historic_5_max_rate          3137 non-null   float64\n",
      " 24  historic_5_total_win_amount  3137 non-null   float64\n",
      "dtypes: float64(23), int64(2)\n",
      "memory usage: 612.8 KB\n"
     ]
    }
   ],
   "source": [
    "df.info()"
   ]
  },
  {
   "cell_type": "code",
   "execution_count": 158,
   "id": "6d8c3f8c",
   "metadata": {},
   "outputs": [
    {
     "data": {
      "application/vnd.microsoft.datawrangler.viewer.v0+json": {
       "columns": [
        {
         "name": "index",
         "rawType": "int64",
         "type": "integer"
        },
        {
         "name": "Number of players",
         "rawType": "int64",
         "type": "integer"
        },
        {
         "name": "Total bets",
         "rawType": "float64",
         "type": "float"
        },
        {
         "name": "Total gains",
         "rawType": "float64",
         "type": "float"
        },
        {
         "name": "L",
         "rawType": "int64",
         "type": "integer"
        },
        {
         "name": "historic_1_player_count",
         "rawType": "float64",
         "type": "float"
        },
        {
         "name": "historic_1_total_bet_amount",
         "rawType": "float64",
         "type": "float"
        },
        {
         "name": "historic_1_max_rate",
         "rawType": "float64",
         "type": "float"
        },
        {
         "name": "historic_1_total_win_amount",
         "rawType": "float64",
         "type": "float"
        },
        {
         "name": "historic_2_player_count",
         "rawType": "float64",
         "type": "float"
        },
        {
         "name": "historic_2_total_bet_amount",
         "rawType": "float64",
         "type": "float"
        },
        {
         "name": "historic_2_max_rate",
         "rawType": "float64",
         "type": "float"
        },
        {
         "name": "historic_2_total_win_amount",
         "rawType": "float64",
         "type": "float"
        },
        {
         "name": "historic_3_player_count",
         "rawType": "float64",
         "type": "float"
        },
        {
         "name": "historic_3_total_bet_amount",
         "rawType": "float64",
         "type": "float"
        },
        {
         "name": "historic_3_max_rate",
         "rawType": "float64",
         "type": "float"
        },
        {
         "name": "historic_3_total_win_amount",
         "rawType": "float64",
         "type": "float"
        },
        {
         "name": "historic_4_player_count",
         "rawType": "float64",
         "type": "float"
        },
        {
         "name": "historic_4_total_bet_amount",
         "rawType": "float64",
         "type": "float"
        },
        {
         "name": "historic_4_max_rate",
         "rawType": "float64",
         "type": "float"
        },
        {
         "name": "historic_4_total_win_amount",
         "rawType": "float64",
         "type": "float"
        },
        {
         "name": "historic_5_player_count",
         "rawType": "float64",
         "type": "float"
        },
        {
         "name": "historic_5_total_bet_amount",
         "rawType": "float64",
         "type": "float"
        },
        {
         "name": "historic_5_max_rate",
         "rawType": "float64",
         "type": "float"
        },
        {
         "name": "historic_5_total_win_amount",
         "rawType": "float64",
         "type": "float"
        }
       ],
       "ref": "232cfac0-41c5-472b-99cb-8a9d6bc6f812",
       "rows": [
        [
         "0",
         "8647",
         "781867.56",
         "715379.83",
         "1670131",
         "8983.0",
         "865085.94",
         "10.46",
         "2330075.9",
         "8113.0",
         "867064.7",
         "6.43",
         "1626801.96",
         "7651.0",
         "750176.72",
         "1.83",
         "114208.67",
         "8718.0",
         "833039.65",
         "1.33",
         "26070.04",
         "8614.0",
         "1138092.36",
         "8.85",
         "2955772.12"
        ],
        [
         "1",
         "8363",
         "762566.83",
         "839047.43",
         "1670134",
         "8647.0",
         "781867.56",
         "3.05",
         "715379.83",
         "8983.0",
         "865085.94",
         "10.46",
         "2330075.9",
         "8113.0",
         "867064.7",
         "6.43",
         "1626801.96",
         "7651.0",
         "750176.72",
         "1.83",
         "114208.67",
         "8718.0",
         "833039.65",
         "1.33",
         "26070.04"
        ],
        [
         "2",
         "8938",
         "878257.74",
         "338964.82",
         "1670138",
         "8363.0",
         "762566.83",
         "3.2",
         "839047.43",
         "8647.0",
         "781867.56",
         "3.05",
         "715379.83",
         "8983.0",
         "865085.94",
         "10.46",
         "2330075.9",
         "8113.0",
         "867064.7",
         "6.43",
         "1626801.96",
         "7651.0",
         "750176.72",
         "1.83",
         "114208.67"
        ],
        [
         "3",
         "8758",
         "880485.19",
         "73780.93",
         "1670143",
         "8938.0",
         "878257.74",
         "2.48",
         "338964.82",
         "8363.0",
         "762566.83",
         "3.2",
         "839047.43",
         "8647.0",
         "781867.56",
         "3.05",
         "715379.83",
         "8983.0",
         "865085.94",
         "10.46",
         "2330075.9",
         "8113.0",
         "867064.7",
         "6.43",
         "1626801.96"
        ],
        [
         "4",
         "7757",
         "812187.44",
         "32754.36",
         "1670146",
         "8758.0",
         "880485.19",
         "1.41",
         "73780.93",
         "8938.0",
         "878257.74",
         "2.48",
         "338964.82",
         "8363.0",
         "762566.83",
         "3.2",
         "839047.43",
         "8647.0",
         "781867.56",
         "3.05",
         "715379.83",
         "8983.0",
         "865085.94",
         "10.46",
         "2330075.9"
        ]
       ],
       "shape": {
        "columns": 24,
        "rows": 5
       }
      },
      "text/html": [
       "<div>\n",
       "<style scoped>\n",
       "    .dataframe tbody tr th:only-of-type {\n",
       "        vertical-align: middle;\n",
       "    }\n",
       "\n",
       "    .dataframe tbody tr th {\n",
       "        vertical-align: top;\n",
       "    }\n",
       "\n",
       "    .dataframe thead th {\n",
       "        text-align: right;\n",
       "    }\n",
       "</style>\n",
       "<table border=\"1\" class=\"dataframe\">\n",
       "  <thead>\n",
       "    <tr style=\"text-align: right;\">\n",
       "      <th></th>\n",
       "      <th>Number of players</th>\n",
       "      <th>Total bets</th>\n",
       "      <th>Total gains</th>\n",
       "      <th>L</th>\n",
       "      <th>historic_1_player_count</th>\n",
       "      <th>historic_1_total_bet_amount</th>\n",
       "      <th>historic_1_max_rate</th>\n",
       "      <th>historic_1_total_win_amount</th>\n",
       "      <th>historic_2_player_count</th>\n",
       "      <th>historic_2_total_bet_amount</th>\n",
       "      <th>...</th>\n",
       "      <th>historic_3_max_rate</th>\n",
       "      <th>historic_3_total_win_amount</th>\n",
       "      <th>historic_4_player_count</th>\n",
       "      <th>historic_4_total_bet_amount</th>\n",
       "      <th>historic_4_max_rate</th>\n",
       "      <th>historic_4_total_win_amount</th>\n",
       "      <th>historic_5_player_count</th>\n",
       "      <th>historic_5_total_bet_amount</th>\n",
       "      <th>historic_5_max_rate</th>\n",
       "      <th>historic_5_total_win_amount</th>\n",
       "    </tr>\n",
       "  </thead>\n",
       "  <tbody>\n",
       "    <tr>\n",
       "      <th>0</th>\n",
       "      <td>8647</td>\n",
       "      <td>781867.56</td>\n",
       "      <td>715379.83</td>\n",
       "      <td>1670131</td>\n",
       "      <td>8983.0</td>\n",
       "      <td>865085.94</td>\n",
       "      <td>10.46</td>\n",
       "      <td>2330075.90</td>\n",
       "      <td>8113.0</td>\n",
       "      <td>867064.70</td>\n",
       "      <td>...</td>\n",
       "      <td>1.83</td>\n",
       "      <td>114208.67</td>\n",
       "      <td>8718.0</td>\n",
       "      <td>833039.65</td>\n",
       "      <td>1.33</td>\n",
       "      <td>26070.04</td>\n",
       "      <td>8614.0</td>\n",
       "      <td>1138092.36</td>\n",
       "      <td>8.85</td>\n",
       "      <td>2955772.12</td>\n",
       "    </tr>\n",
       "    <tr>\n",
       "      <th>1</th>\n",
       "      <td>8363</td>\n",
       "      <td>762566.83</td>\n",
       "      <td>839047.43</td>\n",
       "      <td>1670134</td>\n",
       "      <td>8647.0</td>\n",
       "      <td>781867.56</td>\n",
       "      <td>3.05</td>\n",
       "      <td>715379.83</td>\n",
       "      <td>8983.0</td>\n",
       "      <td>865085.94</td>\n",
       "      <td>...</td>\n",
       "      <td>6.43</td>\n",
       "      <td>1626801.96</td>\n",
       "      <td>7651.0</td>\n",
       "      <td>750176.72</td>\n",
       "      <td>1.83</td>\n",
       "      <td>114208.67</td>\n",
       "      <td>8718.0</td>\n",
       "      <td>833039.65</td>\n",
       "      <td>1.33</td>\n",
       "      <td>26070.04</td>\n",
       "    </tr>\n",
       "    <tr>\n",
       "      <th>2</th>\n",
       "      <td>8938</td>\n",
       "      <td>878257.74</td>\n",
       "      <td>338964.82</td>\n",
       "      <td>1670138</td>\n",
       "      <td>8363.0</td>\n",
       "      <td>762566.83</td>\n",
       "      <td>3.20</td>\n",
       "      <td>839047.43</td>\n",
       "      <td>8647.0</td>\n",
       "      <td>781867.56</td>\n",
       "      <td>...</td>\n",
       "      <td>10.46</td>\n",
       "      <td>2330075.90</td>\n",
       "      <td>8113.0</td>\n",
       "      <td>867064.70</td>\n",
       "      <td>6.43</td>\n",
       "      <td>1626801.96</td>\n",
       "      <td>7651.0</td>\n",
       "      <td>750176.72</td>\n",
       "      <td>1.83</td>\n",
       "      <td>114208.67</td>\n",
       "    </tr>\n",
       "    <tr>\n",
       "      <th>3</th>\n",
       "      <td>8758</td>\n",
       "      <td>880485.19</td>\n",
       "      <td>73780.93</td>\n",
       "      <td>1670143</td>\n",
       "      <td>8938.0</td>\n",
       "      <td>878257.74</td>\n",
       "      <td>2.48</td>\n",
       "      <td>338964.82</td>\n",
       "      <td>8363.0</td>\n",
       "      <td>762566.83</td>\n",
       "      <td>...</td>\n",
       "      <td>3.05</td>\n",
       "      <td>715379.83</td>\n",
       "      <td>8983.0</td>\n",
       "      <td>865085.94</td>\n",
       "      <td>10.46</td>\n",
       "      <td>2330075.90</td>\n",
       "      <td>8113.0</td>\n",
       "      <td>867064.70</td>\n",
       "      <td>6.43</td>\n",
       "      <td>1626801.96</td>\n",
       "    </tr>\n",
       "    <tr>\n",
       "      <th>4</th>\n",
       "      <td>7757</td>\n",
       "      <td>812187.44</td>\n",
       "      <td>32754.36</td>\n",
       "      <td>1670146</td>\n",
       "      <td>8758.0</td>\n",
       "      <td>880485.19</td>\n",
       "      <td>1.41</td>\n",
       "      <td>73780.93</td>\n",
       "      <td>8938.0</td>\n",
       "      <td>878257.74</td>\n",
       "      <td>...</td>\n",
       "      <td>3.20</td>\n",
       "      <td>839047.43</td>\n",
       "      <td>8647.0</td>\n",
       "      <td>781867.56</td>\n",
       "      <td>3.05</td>\n",
       "      <td>715379.83</td>\n",
       "      <td>8983.0</td>\n",
       "      <td>865085.94</td>\n",
       "      <td>10.46</td>\n",
       "      <td>2330075.90</td>\n",
       "    </tr>\n",
       "  </tbody>\n",
       "</table>\n",
       "<p>5 rows × 24 columns</p>\n",
       "</div>"
      ],
      "text/plain": [
       "   Number of players  Total bets  Total gains        L  \\\n",
       "0               8647   781867.56    715379.83  1670131   \n",
       "1               8363   762566.83    839047.43  1670134   \n",
       "2               8938   878257.74    338964.82  1670138   \n",
       "3               8758   880485.19     73780.93  1670143   \n",
       "4               7757   812187.44     32754.36  1670146   \n",
       "\n",
       "   historic_1_player_count  historic_1_total_bet_amount  historic_1_max_rate  \\\n",
       "0                   8983.0                    865085.94                10.46   \n",
       "1                   8647.0                    781867.56                 3.05   \n",
       "2                   8363.0                    762566.83                 3.20   \n",
       "3                   8938.0                    878257.74                 2.48   \n",
       "4                   8758.0                    880485.19                 1.41   \n",
       "\n",
       "   historic_1_total_win_amount  historic_2_player_count  \\\n",
       "0                   2330075.90                   8113.0   \n",
       "1                    715379.83                   8983.0   \n",
       "2                    839047.43                   8647.0   \n",
       "3                    338964.82                   8363.0   \n",
       "4                     73780.93                   8938.0   \n",
       "\n",
       "   historic_2_total_bet_amount  ...  historic_3_max_rate  \\\n",
       "0                    867064.70  ...                 1.83   \n",
       "1                    865085.94  ...                 6.43   \n",
       "2                    781867.56  ...                10.46   \n",
       "3                    762566.83  ...                 3.05   \n",
       "4                    878257.74  ...                 3.20   \n",
       "\n",
       "   historic_3_total_win_amount  historic_4_player_count  \\\n",
       "0                    114208.67                   8718.0   \n",
       "1                   1626801.96                   7651.0   \n",
       "2                   2330075.90                   8113.0   \n",
       "3                    715379.83                   8983.0   \n",
       "4                    839047.43                   8647.0   \n",
       "\n",
       "   historic_4_total_bet_amount  historic_4_max_rate  \\\n",
       "0                    833039.65                 1.33   \n",
       "1                    750176.72                 1.83   \n",
       "2                    867064.70                 6.43   \n",
       "3                    865085.94                10.46   \n",
       "4                    781867.56                 3.05   \n",
       "\n",
       "   historic_4_total_win_amount  historic_5_player_count  \\\n",
       "0                     26070.04                   8614.0   \n",
       "1                    114208.67                   8718.0   \n",
       "2                   1626801.96                   7651.0   \n",
       "3                   2330075.90                   8113.0   \n",
       "4                    715379.83                   8983.0   \n",
       "\n",
       "   historic_5_total_bet_amount  historic_5_max_rate  \\\n",
       "0                   1138092.36                 8.85   \n",
       "1                    833039.65                 1.33   \n",
       "2                    750176.72                 1.83   \n",
       "3                    867064.70                 6.43   \n",
       "4                    865085.94                10.46   \n",
       "\n",
       "   historic_5_total_win_amount  \n",
       "0                   2955772.12  \n",
       "1                     26070.04  \n",
       "2                    114208.67  \n",
       "3                   1626801.96  \n",
       "4                   2330075.90  \n",
       "\n",
       "[5 rows x 24 columns]"
      ]
     },
     "execution_count": 158,
     "metadata": {},
     "output_type": "execute_result"
    }
   ],
   "source": [
    "X.head()"
   ]
  },
  {
   "cell_type": "code",
   "execution_count": 159,
   "id": "cd7f46f3",
   "metadata": {},
   "outputs": [
    {
     "data": {
      "application/vnd.microsoft.datawrangler.viewer.v0+json": {
       "columns": [
        {
         "name": "index",
         "rawType": "int64",
         "type": "integer"
        },
        {
         "name": "Multiplier(Crash)",
         "rawType": "float64",
         "type": "float"
        }
       ],
       "ref": "04298d98-768d-4193-92f6-50f37aafc1ec",
       "rows": [
        [
         "0",
         "3.05"
        ],
        [
         "1",
         "3.2"
        ],
        [
         "2",
         "2.48"
        ],
        [
         "3",
         "1.41"
        ],
        [
         "4",
         "1.26"
        ]
       ],
       "shape": {
        "columns": 1,
        "rows": 5
       }
      },
      "text/plain": [
       "0    3.05\n",
       "1    3.20\n",
       "2    2.48\n",
       "3    1.41\n",
       "4    1.26\n",
       "Name: Multiplier(Crash), dtype: float64"
      ]
     },
     "execution_count": 159,
     "metadata": {},
     "output_type": "execute_result"
    }
   ],
   "source": [
    "y.head()"
   ]
  },
  {
   "cell_type": "code",
   "execution_count": 160,
   "id": "160d670a",
   "metadata": {},
   "outputs": [],
   "source": [
    "\n",
    "scaler = StandardScaler()\n",
    "X = scaler.fit_transform(X)\n",
    "train_X, test_X, train_y, test_y = train_test_split(X, y, test_size=0.2, random_state=123)\n",
    "        "
   ]
  },
  {
   "cell_type": "code",
   "execution_count": null,
   "id": "1f182b01",
   "metadata": {},
   "outputs": [],
   "source": [
    "help(XGBRegressor)"
   ]
  },
  {
   "cell_type": "code",
   "execution_count": 163,
   "id": "9467bf65",
   "metadata": {},
   "outputs": [],
   "source": [
    "grid={\n",
    "    'n_estimators':[100,200,300],\n",
    "    'max_depth':[3,4,5,10,15],\n",
    "}"
   ]
  },
  {
   "cell_type": "code",
   "execution_count": 164,
   "id": "e6a4fd21",
   "metadata": {},
   "outputs": [
    {
     "name": "stdout",
     "output_type": "stream",
     "text": [
      "Fitting 5 folds for each of 15 candidates, totalling 75 fits\n",
      "[CV 1/5] END .....max_depth=3, n_estimators=100;, score=0.775 total time=   0.1s\n",
      "[CV 2/5] END .....max_depth=3, n_estimators=100;, score=0.842 total time=   0.0s\n",
      "[CV 3/5] END .....max_depth=3, n_estimators=100;, score=0.818 total time=   0.0s\n",
      "[CV 4/5] END .....max_depth=3, n_estimators=100;, score=0.799 total time=   0.0s\n",
      "[CV 5/5] END .....max_depth=3, n_estimators=100;, score=0.815 total time=   0.0s\n",
      "[CV 1/5] END .....max_depth=3, n_estimators=200;, score=0.769 total time=   0.1s\n",
      "[CV 2/5] END .....max_depth=3, n_estimators=200;, score=0.839 total time=   0.1s\n",
      "[CV 3/5] END .....max_depth=3, n_estimators=200;, score=0.816 total time=   0.1s\n",
      "[CV 4/5] END .....max_depth=3, n_estimators=200;, score=0.793 total time=   0.1s\n",
      "[CV 5/5] END .....max_depth=3, n_estimators=200;, score=0.807 total time=   0.1s\n",
      "[CV 1/5] END .....max_depth=3, n_estimators=300;, score=0.768 total time=   0.2s\n",
      "[CV 2/5] END .....max_depth=3, n_estimators=300;, score=0.835 total time=   0.2s\n",
      "[CV 3/5] END .....max_depth=3, n_estimators=300;, score=0.811 total time=   0.2s\n",
      "[CV 4/5] END .....max_depth=3, n_estimators=300;, score=0.790 total time=   0.2s\n",
      "[CV 5/5] END .....max_depth=3, n_estimators=300;, score=0.807 total time=   0.2s\n",
      "[CV 1/5] END .....max_depth=4, n_estimators=100;, score=0.794 total time=   0.0s\n",
      "[CV 2/5] END .....max_depth=4, n_estimators=100;, score=0.843 total time=   0.1s\n",
      "[CV 3/5] END .....max_depth=4, n_estimators=100;, score=0.799 total time=   0.0s\n",
      "[CV 4/5] END .....max_depth=4, n_estimators=100;, score=0.817 total time=   0.1s\n",
      "[CV 5/5] END .....max_depth=4, n_estimators=100;, score=0.819 total time=   0.0s\n",
      "[CV 1/5] END .....max_depth=4, n_estimators=200;, score=0.794 total time=   0.2s\n",
      "[CV 2/5] END .....max_depth=4, n_estimators=200;, score=0.840 total time=   0.1s\n",
      "[CV 3/5] END .....max_depth=4, n_estimators=200;, score=0.799 total time=   0.2s\n",
      "[CV 4/5] END .....max_depth=4, n_estimators=200;, score=0.816 total time=   0.2s\n",
      "[CV 5/5] END .....max_depth=4, n_estimators=200;, score=0.816 total time=   0.2s\n",
      "[CV 1/5] END .....max_depth=4, n_estimators=300;, score=0.794 total time=   0.3s\n",
      "[CV 2/5] END .....max_depth=4, n_estimators=300;, score=0.840 total time=   0.3s\n",
      "[CV 3/5] END .....max_depth=4, n_estimators=300;, score=0.799 total time=   0.3s\n",
      "[CV 4/5] END .....max_depth=4, n_estimators=300;, score=0.815 total time=   0.3s\n",
      "[CV 5/5] END .....max_depth=4, n_estimators=300;, score=0.816 total time=   0.3s\n",
      "[CV 1/5] END .....max_depth=5, n_estimators=100;, score=0.816 total time=   0.1s\n",
      "[CV 2/5] END .....max_depth=5, n_estimators=100;, score=0.792 total time=   0.1s\n",
      "[CV 3/5] END .....max_depth=5, n_estimators=100;, score=0.819 total time=   0.1s\n",
      "[CV 4/5] END .....max_depth=5, n_estimators=100;, score=0.812 total time=   0.1s\n",
      "[CV 5/5] END .....max_depth=5, n_estimators=100;, score=0.793 total time=   0.1s\n",
      "[CV 1/5] END .....max_depth=5, n_estimators=200;, score=0.816 total time=   0.3s\n",
      "[CV 2/5] END .....max_depth=5, n_estimators=200;, score=0.792 total time=   0.4s\n",
      "[CV 3/5] END .....max_depth=5, n_estimators=200;, score=0.819 total time=   0.3s\n",
      "[CV 4/5] END .....max_depth=5, n_estimators=200;, score=0.811 total time=   0.3s\n",
      "[CV 5/5] END .....max_depth=5, n_estimators=200;, score=0.792 total time=   0.3s\n",
      "[CV 1/5] END .....max_depth=5, n_estimators=300;, score=0.816 total time=   0.4s\n",
      "[CV 2/5] END .....max_depth=5, n_estimators=300;, score=0.792 total time=   0.4s\n",
      "[CV 3/5] END .....max_depth=5, n_estimators=300;, score=0.819 total time=   0.4s\n",
      "[CV 4/5] END .....max_depth=5, n_estimators=300;, score=0.811 total time=   0.4s\n",
      "[CV 5/5] END .....max_depth=5, n_estimators=300;, score=0.792 total time=   0.4s\n",
      "[CV 1/5] END ....max_depth=10, n_estimators=100;, score=0.768 total time=   1.1s\n",
      "[CV 2/5] END ....max_depth=10, n_estimators=100;, score=0.793 total time=   1.4s\n",
      "[CV 3/5] END ....max_depth=10, n_estimators=100;, score=0.806 total time=   1.2s\n",
      "[CV 4/5] END ....max_depth=10, n_estimators=100;, score=0.766 total time=   1.2s\n",
      "[CV 5/5] END ....max_depth=10, n_estimators=100;, score=0.760 total time=   1.2s\n",
      "[CV 1/5] END ....max_depth=10, n_estimators=200;, score=0.768 total time=   1.4s\n",
      "[CV 2/5] END ....max_depth=10, n_estimators=200;, score=0.793 total time=   1.3s\n",
      "[CV 3/5] END ....max_depth=10, n_estimators=200;, score=0.806 total time=   1.3s\n",
      "[CV 4/5] END ....max_depth=10, n_estimators=200;, score=0.766 total time=   1.3s\n",
      "[CV 5/5] END ....max_depth=10, n_estimators=200;, score=0.760 total time=   1.5s\n",
      "[CV 1/5] END ....max_depth=10, n_estimators=300;, score=0.768 total time=   1.3s\n",
      "[CV 2/5] END ....max_depth=10, n_estimators=300;, score=0.793 total time=   1.2s\n",
      "[CV 3/5] END ....max_depth=10, n_estimators=300;, score=0.806 total time=   1.3s\n",
      "[CV 4/5] END ....max_depth=10, n_estimators=300;, score=0.766 total time=   1.4s\n",
      "[CV 5/5] END ....max_depth=10, n_estimators=300;, score=0.760 total time=   1.3s\n",
      "[CV 1/5] END ....max_depth=15, n_estimators=100;, score=0.758 total time=   2.9s\n",
      "[CV 2/5] END ....max_depth=15, n_estimators=100;, score=0.798 total time=   2.5s\n",
      "[CV 3/5] END ....max_depth=15, n_estimators=100;, score=0.806 total time=   2.6s\n",
      "[CV 4/5] END ....max_depth=15, n_estimators=100;, score=0.770 total time=   3.0s\n",
      "[CV 5/5] END ....max_depth=15, n_estimators=100;, score=0.750 total time=   2.9s\n",
      "[CV 1/5] END ....max_depth=15, n_estimators=200;, score=0.758 total time=   2.9s\n",
      "[CV 2/5] END ....max_depth=15, n_estimators=200;, score=0.798 total time=   2.4s\n",
      "[CV 3/5] END ....max_depth=15, n_estimators=200;, score=0.806 total time=   2.9s\n",
      "[CV 4/5] END ....max_depth=15, n_estimators=200;, score=0.770 total time=   3.3s\n",
      "[CV 5/5] END ....max_depth=15, n_estimators=200;, score=0.750 total time=   3.5s\n",
      "[CV 1/5] END ....max_depth=15, n_estimators=300;, score=0.758 total time=   3.2s\n",
      "[CV 2/5] END ....max_depth=15, n_estimators=300;, score=0.798 total time=   2.7s\n",
      "[CV 3/5] END ....max_depth=15, n_estimators=300;, score=0.806 total time=   2.9s\n",
      "[CV 4/5] END ....max_depth=15, n_estimators=300;, score=0.770 total time=   3.1s\n",
      "[CV 5/5] END ....max_depth=15, n_estimators=300;, score=0.750 total time=   3.1s\n"
     ]
    },
    {
     "data": {
      "text/plain": [
       "{'max_depth': 4, 'n_estimators': 100}"
      ]
     },
     "execution_count": 164,
     "metadata": {},
     "output_type": "execute_result"
    }
   ],
   "source": [
    "xgReg=XGBRegressor()\n",
    "grid_cv=GridSearchCV(xgReg,grid,verbose=3)\n",
    "grid_cv.fit(train_X,train_y)\n",
    "grid_cv.best_params_"
   ]
  },
  {
   "cell_type": "code",
   "execution_count": 165,
   "id": "28affd0c",
   "metadata": {},
   "outputs": [
    {
     "data": {
      "text/plain": [
       "0.9961576468941414"
      ]
     },
     "execution_count": 165,
     "metadata": {},
     "output_type": "execute_result"
    }
   ],
   "source": [
    "grid_cv.best_estimator_.score(train_X,train_y)"
   ]
  },
  {
   "cell_type": "code",
   "execution_count": 166,
   "id": "b6e4c531",
   "metadata": {},
   "outputs": [
    {
     "name": "stdout",
     "output_type": "stream",
     "text": [
      "The accuracy for Ridge Regression is 85.2%.\n"
     ]
    }
   ],
   "source": [
    "\n",
    "ridge_score=str(r2_score(test_y,ridge_pred)*100)[:4]\n",
    "print(f\"The accuracy for Ridge Regression is {ridge_score}%.\")"
   ]
  },
  {
   "cell_type": "code",
   "execution_count": 153,
   "id": "2e424f38",
   "metadata": {},
   "outputs": [],
   "source": [
    "\n",
    "class Process:\n",
    "    def __init__(self,df):\n",
    "        #self.df = pd.read_csv('games-copy.csv')\n",
    "        self.df = df\n",
    "        self.y = self.df['Multiplier(Crash)']\n",
    "        self.X = self.df.drop(columns=['Multiplier(Crash)'])\n",
    "        self.scaler = StandardScaler()\n",
    "        self.X = self.scaler.fit_transform(self.X)\n",
    "        self.train_X, self.test_X, self.train_y, self.test_y = train_test_split(self.X, self.y, test_size=0.1, random_state=123)\n",
    "        self.forest_reg = RandomForestRegressor(max_depth=10, random_state=123)\n",
    "        self.nn_reg = MLPRegressor(hidden_layer_sizes=(50 , 50 , 50), max_iter=3000, random_state=123)\n"
   ]
  },
  {
   "cell_type": "code",
   "execution_count": 170,
   "id": "98604002",
   "metadata": {},
   "outputs": [],
   "source": [
    "\n",
    "class Train:\n",
    "    def __init__(self):\n",
    "        self.pr = Process(df)\n",
    "        self.train_X = self.pr.train_X\n",
    "        self.train_y = self.pr.train_y\n",
    "        self.nn_reg = self.pr.nn_reg\n",
    "        self.forest_reg = self.pr.forest_reg\n",
    "        self.forest_reg.fit(self.train_X, self.train_y)\n",
    "        self.nn_reg.fit(self.train_X, self.train_y)\n",
    "        self.forest_reg_pred = self.forest_reg.predict(self.pr.train_X)\n",
    "        self.nn_reg_pred = self.nn_reg.predict(self.pr.train_X)\n",
    "        self.forest_reg_score =  str(r2_score(self.pr.train_y, self.forest_reg_pred) * 100)[:4]\n",
    "        self.nn_reg_score = str(r2_score(self.pr.train_y, self.nn_reg_pred) * 100)[:4]\n",
    "        print(f\"The train accuracy for Random Forest Regressor is {self.forest_reg_score}%.\")\n",
    "        print(f\"The train accuracy for Neural Network Regressor is {self.nn_reg_score}%.\")\n",
    "        "
   ]
  },
  {
   "cell_type": "code",
   "execution_count": 171,
   "id": "41330ea2",
   "metadata": {},
   "outputs": [],
   "source": [
    "\n",
    "class Acc:\n",
    "    def __init__(self):\n",
    "        self.pr = Process(df)\n",
    "        self.tr = Train()\n",
    "        self.forest_reg_pred = self.tr.forest_reg.predict(self.pr.test_X)\n",
    "        self.nn_reg_pred = self.tr.nn_reg.predict(self.pr.test_X)\n",
    "        self.forest_reg_score = str(r2_score(self.pr.test_y, self.forest_reg_pred) * 100)[:4]\n",
    "        self.nn_reg_score = str(r2_score(self.pr.test_y, self.nn_reg_pred) * 100)[:4]\n",
    "        print(f\"The test accuracy for RandomForestRegressor is {self.forest_reg_score}%.\")\n",
    "        print(f\"The test accuracy for MLPRegressor is {self.nn_reg_score}%.\")\n",
    "        \n"
   ]
  },
  {
   "cell_type": "code",
   "execution_count": null,
   "id": "f396d650",
   "metadata": {},
   "outputs": [],
   "source": [
    "help(cross_val_score)"
   ]
  },
  {
   "cell_type": "code",
   "execution_count": 172,
   "id": "9e830d4f",
   "metadata": {},
   "outputs": [
    {
     "name": "stdout",
     "output_type": "stream",
     "text": [
      "[CV] END ................................ score: (test=0.874) total time=  13.0s\n",
      "[CV] END ................................ score: (test=0.869) total time=  12.9s\n",
      "[CV] END ................................ score: (test=0.801) total time=  13.2s\n",
      "[CV] END ................................ score: (test=0.811) total time=  12.6s\n",
      "[CV] END ................................ score: (test=0.794) total time=  12.8s\n",
      "Cross-validation scores: [0.8735317  0.86918914 0.80061008 0.81108413 0.79405605]\n",
      "Mean cross-validation score: 0.8296942189174992\n",
      "[CV] END ................................ score: (test=0.709) total time=  11.9s\n",
      "[CV] END ................................ score: (test=0.785) total time=   9.7s\n",
      "[CV] END ................................ score: (test=0.772) total time=   8.3s\n",
      "[CV] END ................................ score: (test=0.763) total time=  10.7s\n",
      "[CV] END ................................ score: (test=0.696) total time=  12.0s\n",
      "Cross-validation scores: [0.70934916 0.78537449 0.77215927 0.762812   0.69604239]\n",
      "Mean cross-validation score: 0.7451474631812891\n",
      "The train accuracy for Random Forest Regressor is 97.4%.\n",
      "The train accuracy for Neural Network Regressor is 98.4%.\n",
      "The test accuracy for RandomForestRegressor is 89.4%.\n",
      "The test accuracy for MLPRegressor is 82.3%.\n"
     ]
    }
   ],
   "source": [
    "\n",
    "# Implementing cross-validation\n",
    "def cross_validate_model(model, X, y):\n",
    "    scores = cross_val_score(model, X, y, cv=5, verbose=3)\n",
    "    print(f\"Cross-validation scores: {scores}\")\n",
    "    print(f\"Mean cross-validation score: {scores.mean()}\")\n",
    "\n",
    "# Example usage\n",
    "process = Process(df)\n",
    "cross_validate_model(process.forest_reg, process.X, process.y)\n",
    "cross_validate_model(process.nn_reg, process.X, process.y)\n",
    "ac=Acc()"
   ]
  },
  {
   "cell_type": "code",
   "execution_count": null,
   "id": "159da9ac",
   "metadata": {},
   "outputs": [],
   "source": []
  }
 ],
 "metadata": {
  "kernelspec": {
   "display_name": "Python 3",
   "language": "python",
   "name": "python3"
  },
  "language_info": {
   "codemirror_mode": {
    "name": "ipython",
    "version": 3
   },
   "file_extension": ".py",
   "mimetype": "text/x-python",
   "name": "python",
   "nbconvert_exporter": "python",
   "pygments_lexer": "ipython3",
   "version": "3.11.9"
  }
 },
 "nbformat": 4,
 "nbformat_minor": 5
}
